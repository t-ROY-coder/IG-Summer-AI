{
 "cells": [
  {
   "cell_type": "code",
   "execution_count": 40,
   "metadata": {
    "colab": {},
    "colab_type": "code",
    "id": "F-6bE0dYcBgA"
   },
   "outputs": [],
   "source": [
    "## Import stuff\n",
    " \n",
    "import numpy as np\n",
    "from sklearn import datasets, linear_model, metrics"
   ]
  },
  {
   "cell_type": "code",
   "execution_count": 41,
   "metadata": {
    "colab": {},
    "colab_type": "code",
    "id": "gK71NIhMcEs5"
   },
   "outputs": [],
   "source": [
    "## Load the diabetes dataset\n",
    "diabetes = datasets.load_diabetes()\n",
    "diabetes_X = diabetes.data # matrix of dimensions 442x10\n",
    " \n",
    "# Split the data into training/testing sets\n",
    "diabetes_X_train = diabetes_X[:-20]\n",
    "diabetes_X_test = diabetes_X[-20:]\n",
    " \n",
    "# Split the targets into training/testing sets\n",
    "diabetes_y_train = diabetes.target[:-20]\n",
    "diabetes_y_test = diabetes.target[-20:]"
   ]
  },
  {
   "cell_type": "code",
   "execution_count": 42,
   "metadata": {
    "colab": {},
    "colab_type": "code",
    "id": "XJTg22ybcHsl"
   },
   "outputs": [
    {
     "name": "stdout",
     "output_type": "stream",
     "text": [
      "Epoch #0: 14607.140082\n",
      "Epoch #5000: 1703.359532\n",
      "Epoch #10000: 1549.055456\n",
      "Epoch #15000: 1497.646217\n",
      "Epoch #20000: 1477.503638\n",
      "Epoch #25000: 1469.175686\n",
      "Epoch #30000: 1465.545390\n",
      "Epoch #35000: 1463.859019\n",
      "Epoch #40000: 1463.010701\n",
      "Epoch #45000: 1462.539792\n",
      "Epoch #50000: 1462.246907\n",
      "Epoch #55000: 1462.042150\n",
      "Epoch #60000: 1461.883218\n",
      "Epoch #65000: 1461.749331\n",
      "Epoch #70000: 1461.629848\n",
      "Epoch #75000: 1461.519110\n",
      "Epoch #80000: 1461.414002\n",
      "Epoch #85000: 1461.312760\n",
      "Epoch #90000: 1461.214352\n",
      "Epoch #95000: 1461.118163\n"
     ]
    }
   ],
   "source": [
    "# train\n",
    "X = np.array(diabetes_X_train)\n",
    "y = np.array(diabetes_y_train)\n",
    "\n",
    "X = np.insert(X, 0, 1, axis=1)\n",
    "\n",
    "# train: init\n",
    "W = np.random.random((1,11))\n",
    "###b = ...\n",
    "\n",
    "learning_rate = 0.0001\n",
    "epochs = 100000\n",
    " \n",
    "# train: gradient descent\n",
    "for i in range(epochs):\n",
    "    \n",
    "    # calculate predictions\n",
    "    h = W.dot(X.T)\n",
    " \n",
    "    # calculate error and cost (mean squared error)\n",
    "    diff = h - y\n",
    "    cost = (diff**2).sum() / (2*len(y))\n",
    " \n",
    "    # calculate gradients\n",
    "    grad = diff.dot(X)\n",
    " \n",
    "    # update parameters\n",
    "    W = W - (learning_rate*grad)\n",
    "    \n",
    "    # diagnostic output\n",
    "    if i % 5000 == 0: print(\"Epoch #%d: %f\" % (i, cost))"
   ]
  },
  {
   "cell_type": "code",
   "execution_count": 43,
   "metadata": {
    "colab": {},
    "colab_type": "code",
    "id": "uvSdTn-0cKJL"
   },
   "outputs": [
    {
     "name": "stdout",
     "output_type": "stream",
     "text": [
      "Coefficients: \n",
      " [[ 152.72398008    4.20637747 -234.6322847   520.99964943  325.85375146\n",
      "   -99.10745985  -85.83006795 -204.75314726  114.82181021  468.63243863\n",
      "    79.92731443]]\n",
      "Mean squared error: 47.25\n",
      "========================================================================================================================\n"
     ]
    }
   ],
   "source": [
    "# test\n",
    "X_test = np.array(diabetes_X_test)\n",
    "y_test = np.array(diabetes_y_test)\n",
    "\n",
    "X_test = np.insert(X_test, 0, 1, axis=1)\n",
    "\n",
    "# calculate predictions\n",
    "h = W.dot(X_test.T)\n",
    " \n",
    "# calculate error and cost (mean squared error)\n",
    "diff = h - y_test\n",
    "cost = (diff**2).sum() / (2*len(y))\n",
    "\n",
    "\n",
    "print('Coefficients: \\n', W)\n",
    "print(\"Mean squared error: %.2f\" % cost)\n",
    "print(\"=\"*120)"
   ]
  }
 ],
 "metadata": {
  "colab": {
   "name": "week1assignment.ipynb",
   "provenance": []
  },
  "kernelspec": {
   "display_name": "Python 3",
   "language": "python",
   "name": "python3"
  },
  "language_info": {
   "codemirror_mode": {
    "name": "ipython",
    "version": 3
   },
   "file_extension": ".py",
   "mimetype": "text/x-python",
   "name": "python",
   "nbconvert_exporter": "python",
   "pygments_lexer": "ipython3",
   "version": "3.8.2"
  }
 },
 "nbformat": 4,
 "nbformat_minor": 1
}
