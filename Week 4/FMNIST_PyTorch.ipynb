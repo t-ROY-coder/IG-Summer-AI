{
  "nbformat": 4,
  "nbformat_minor": 0,
  "metadata": {
    "colab": {
      "name": "FMNIST_PyTorch.ipynb",
      "provenance": [],
      "collapsed_sections": []
    },
    "kernelspec": {
      "name": "python3",
      "display_name": "Python 3"
    }
  },
  "cells": [
    {
      "cell_type": "markdown",
      "metadata": {
        "id": "pBegEcasQjv_",
        "colab_type": "text"
      },
      "source": [
        "# Installing PyTorch"
      ]
    },
    {
      "cell_type": "code",
      "metadata": {
        "id": "xFUFZNHNQYba",
        "colab_type": "code",
        "outputId": "f9eedb2c-6525-4399-fe89-98c341cc2577",
        "colab": {
          "base_uri": "https://localhost:8080/",
          "height": 68
        }
      },
      "source": [
        "!pip install torch"
      ],
      "execution_count": 12,
      "outputs": [
        {
          "output_type": "stream",
          "text": [
            "Requirement already satisfied: torch in /usr/local/lib/python3.6/dist-packages (1.5.0+cu101)\n",
            "Requirement already satisfied: future in /usr/local/lib/python3.6/dist-packages (from torch) (0.16.0)\n",
            "Requirement already satisfied: numpy in /usr/local/lib/python3.6/dist-packages (from torch) (1.18.4)\n"
          ],
          "name": "stdout"
        }
      ]
    },
    {
      "cell_type": "markdown",
      "metadata": {
        "id": "7Vl5TQGzVhPj",
        "colab_type": "text"
      },
      "source": [
        "# Importing Libs & Packs"
      ]
    },
    {
      "cell_type": "code",
      "metadata": {
        "id": "SRdJUmxgRwYX",
        "colab_type": "code",
        "colab": {}
      },
      "source": [
        "import numpy as np\n",
        "import torch\n",
        "import torchvision\n",
        "import matplotlib.pyplot as plt\n",
        "from torchvision import datasets, transforms\n",
        "from torch import nn, optim"
      ],
      "execution_count": 0,
      "outputs": []
    },
    {
      "cell_type": "markdown",
      "metadata": {
        "id": "7yl-Lw_IVr77",
        "colab_type": "text"
      },
      "source": [
        "#Data Collection"
      ]
    },
    {
      "cell_type": "code",
      "metadata": {
        "id": "1n3JTZEyR8Hm",
        "colab_type": "code",
        "colab": {}
      },
      "source": [
        "transform = transforms.Compose([transforms.ToTensor(),\n",
        "                              transforms.Normalize((0.5,), (0.5,)),\n",
        "                              ])"
      ],
      "execution_count": 0,
      "outputs": []
    },
    {
      "cell_type": "code",
      "metadata": {
        "id": "LhWO0f_WTz6m",
        "colab_type": "code",
        "colab": {}
      },
      "source": [
        "trainset = datasets.FashionMNIST('E:\\Academics\\ACS\\IG- Summer AI\\Week 4', download=True, train=True, transform=transform)\n",
        "valset = datasets.FashionMNIST('E:\\Academics\\ACS\\IG- Summer AI\\Week 4', download=True, train=False, transform=transform)\n",
        "trainloader = torch.utils.data.DataLoader(trainset, batch_size=64, shuffle=True)\n",
        "valloader = torch.utils.data.DataLoader(valset, batch_size=64, shuffle=True)"
      ],
      "execution_count": 0,
      "outputs": []
    },
    {
      "cell_type": "markdown",
      "metadata": {
        "id": "9uIi4OPjVyAL",
        "colab_type": "text"
      },
      "source": [
        "#Data Exploration"
      ]
    },
    {
      "cell_type": "code",
      "metadata": {
        "id": "4SUBRogHT3bM",
        "colab_type": "code",
        "outputId": "2dece602-47a7-405c-a6fe-08d056c5551c",
        "colab": {
          "base_uri": "https://localhost:8080/",
          "height": 51
        }
      },
      "source": [
        "dataiter = iter(trainloader)\n",
        "images, labels = dataiter.next()\n",
        "\n",
        "print(images.shape)\n",
        "print(labels.shape)"
      ],
      "execution_count": 16,
      "outputs": [
        {
          "output_type": "stream",
          "text": [
            "torch.Size([64, 1, 28, 28])\n",
            "torch.Size([64])\n"
          ],
          "name": "stdout"
        }
      ]
    },
    {
      "cell_type": "code",
      "metadata": {
        "id": "KhAhpvJuU7BT",
        "colab_type": "code",
        "outputId": "bd5f1b6e-f81f-4a79-96b6-ec966a01de94",
        "colab": {
          "base_uri": "https://localhost:8080/",
          "height": 282
        }
      },
      "source": [
        "plt.imshow(images[0].numpy().squeeze(), cmap='gray_r')"
      ],
      "execution_count": 17,
      "outputs": [
        {
          "output_type": "execute_result",
          "data": {
            "text/plain": [
              "<matplotlib.image.AxesImage at 0x7f201230d048>"
            ]
          },
          "metadata": {
            "tags": []
          },
          "execution_count": 17
        },
        {
          "output_type": "display_data",
          "data": {
            "image/png": "[encoded data removed]",
            "text/plain": [
              "<Figure size 432x288 with 1 Axes>"
            ]
          },
          "metadata": {
            "tags": [],
            "needs_background": "light"
          }
        }
      ]
    },
    {
      "cell_type": "markdown",
      "metadata": {
        "id": "Pjk6GD-wV2Je",
        "colab_type": "text"
      },
      "source": [
        "#Model Building"
      ]
    },
    {
      "cell_type": "markdown",
      "metadata": {
        "id": "jar_oM6iXy3T",
        "colab_type": "text"
      },
      "source": [
        "###Structure of Model"
      ]
    },
    {
      "cell_type": "code",
      "metadata": {
        "id": "kAWjN8sKVVor",
        "colab_type": "code",
        "outputId": "4d157a15-a6bd-4f80-c31e-b2c69f75dc11",
        "colab": {
          "base_uri": "https://localhost:8080/",
          "height": 170
        }
      },
      "source": [
        "input_size = 784\n",
        "hidden_sizes = [128, 64]\n",
        "output_size = 10\n",
        "\n",
        "model = nn.Sequential(nn.Linear(input_size, hidden_sizes[0]),\n",
        "                      nn.ReLU(),\n",
        "                      nn.Dropout(p=0.2),\n",
        "                      nn.Linear(hidden_sizes[0], hidden_sizes[1]),\n",
        "                      nn.ReLU(),\n",
        "                      nn.Linear(hidden_sizes[1], output_size),\n",
        "                      nn.LogSoftmax(dim=1))\n",
        "print(model)"
      ],
      "execution_count": 33,
      "outputs": [
        {
          "output_type": "stream",
          "text": [
            "Sequential(\n",
            "  (0): Linear(in_features=784, out_features=128, bias=True)\n",
            "  (1): ReLU()\n",
            "  (2): Dropout(p=0.2, inplace=False)\n",
            "  (3): Linear(in_features=128, out_features=64, bias=True)\n",
            "  (4): ReLU()\n",
            "  (5): Linear(in_features=64, out_features=10, bias=True)\n",
            "  (6): LogSoftmax()\n",
            ")\n"
          ],
          "name": "stdout"
        }
      ]
    },
    {
      "cell_type": "markdown",
      "metadata": {
        "id": "ACdSxGU6X2Ks",
        "colab_type": "text"
      },
      "source": [
        "###Loss Calculation"
      ]
    },
    {
      "cell_type": "code",
      "metadata": {
        "id": "a0-RNd9hWN4O",
        "colab_type": "code",
        "colab": {}
      },
      "source": [
        "criterion = nn.CrossEntropyLoss()\n",
        "images, labels = next(iter(trainloader))\n",
        "images = images.view(images.shape[0], -1)\n",
        "\n",
        "logps = model(images) # log probabilities\n",
        "loss = criterion(logps, labels) # NLL loss"
      ],
      "execution_count": 0,
      "outputs": []
    },
    {
      "cell_type": "markdown",
      "metadata": {
        "id": "8laH-FhnX7PD",
        "colab_type": "text"
      },
      "source": [
        "###Backward Propagation"
      ]
    },
    {
      "cell_type": "code",
      "metadata": {
        "id": "h5DI67YvW2aL",
        "colab_type": "code",
        "colab": {}
      },
      "source": [
        "loss.backward()"
      ],
      "execution_count": 0,
      "outputs": []
    },
    {
      "cell_type": "markdown",
      "metadata": {
        "id": "7OSDDfJGXP_V",
        "colab_type": "text"
      },
      "source": [
        "#Model Training"
      ]
    },
    {
      "cell_type": "code",
      "metadata": {
        "id": "1JVtJZh9XJ0W",
        "colab_type": "code",
        "outputId": "08c4194d-56ac-4a37-f2ff-20bcca88b84c",
        "colab": {
          "base_uri": "https://localhost:8080/",
          "height": 357
        }
      },
      "source": [
        "optimizer = optim.SGD(model.parameters(), lr=0.003, momentum=0.9)\n",
        "epochs = 20\n",
        "loss_pt = []\n",
        "for e in range(epochs):\n",
        "    running_loss = 0\n",
        "    for images, labels in trainloader:\n",
        "        # Flatten MNIST images into a 784 long vector\n",
        "        images = images.view(images.shape[0], -1)\n",
        "    \n",
        "        # Training pass\n",
        "        optimizer.zero_grad()\n",
        "        \n",
        "        output = model(images)\n",
        "        loss = criterion(output, labels)\n",
        "        \n",
        "        # Model learns by backpropagating\n",
        "        loss.backward()\n",
        "        \n",
        "        # And optimizing its weights\n",
        "        optimizer.step()\n",
        "        \n",
        "        loss_pt.append(loss.item())\n",
        "        running_loss += loss.item()\n",
        "    else:\n",
        "        print(\"Epoch {} -> Training loss: {}\".format(e, running_loss/len(trainloader)))"
      ],
      "execution_count": 36,
      "outputs": [
        {
          "output_type": "stream",
          "text": [
            "Epoch 0 -> Training loss: 0.7763170832827655\n",
            "Epoch 1 -> Training loss: 0.48224239937786356\n",
            "Epoch 2 -> Training loss: 0.43287894781083186\n",
            "Epoch 3 -> Training loss: 0.3982782209478716\n",
            "Epoch 4 -> Training loss: 0.37673371143813833\n",
            "Epoch 5 -> Training loss: 0.36016144481167867\n",
            "Epoch 6 -> Training loss: 0.3458593395600187\n",
            "Epoch 7 -> Training loss: 0.3368695209672583\n",
            "Epoch 8 -> Training loss: 0.3277843582159929\n",
            "Epoch 9 -> Training loss: 0.3166927020194561\n",
            "Epoch 10 -> Training loss: 0.31055937948892876\n",
            "Epoch 11 -> Training loss: 0.30578453827704954\n",
            "Epoch 12 -> Training loss: 0.29639084415553985\n",
            "Epoch 13 -> Training loss: 0.29207465807194394\n",
            "Epoch 14 -> Training loss: 0.28307763176527356\n",
            "Epoch 15 -> Training loss: 0.27947249685300946\n",
            "Epoch 16 -> Training loss: 0.27475392228282336\n",
            "Epoch 17 -> Training loss: 0.2678628087814238\n",
            "Epoch 18 -> Training loss: 0.26524533558565416\n",
            "Epoch 19 -> Training loss: 0.2610896919915544\n"
          ],
          "name": "stdout"
        }
      ]
    },
    {
      "cell_type": "code",
      "metadata": {
        "id": "GchmP9nmODZT",
        "colab_type": "code",
        "colab": {
          "base_uri": "https://localhost:8080/",
          "height": 279
        },
        "outputId": "4279e642-cb1d-46a3-85ff-b5ed47b669f8"
      },
      "source": [
        "plt.plot(loss_pt)\n",
        "plt.xlabel('Data-Point')\n",
        "plt.ylabel('Loss')\n",
        "plt.show()"
      ],
      "execution_count": 37,
      "outputs": [
        {
          "output_type": "display_data",
          "data": {
            "image/png": "[encoded data removed]",
            "text/plain": [
              "<Figure size 432x288 with 1 Axes>"
            ]
          },
          "metadata": {
            "tags": [],
            "needs_background": "light"
          }
        }
      ]
    },
    {
      "cell_type": "markdown",
      "metadata": {
        "id": "zYzCmSPxYoDO",
        "colab_type": "text"
      },
      "source": [
        "#Model Testing"
      ]
    },
    {
      "cell_type": "code",
      "metadata": {
        "id": "CaEzl8LiXe9l",
        "colab_type": "code",
        "outputId": "11ca4490-f75d-4c49-a209-04c67a528a31",
        "colab": {
          "base_uri": "https://localhost:8080/",
          "height": 68
        }
      },
      "source": [
        "correct_count, all_count = 0, 0\n",
        "for images,labels in valloader:\n",
        "  for i in range(len(labels)):\n",
        "    img = images[i].view(1, 784)\n",
        "    with torch.no_grad():\n",
        "        logps = model(img)\n",
        "\n",
        "    \n",
        "    ps = torch.exp(logps)\n",
        "    probab = list(ps.numpy()[0])\n",
        "    pred_label = probab.index(max(probab))\n",
        "    true_label = labels.numpy()[i]\n",
        "    if(true_label == pred_label):\n",
        "      correct_count += 1\n",
        "    all_count += 1\n",
        "\n",
        "print(\"Number Of Images Tested =\", all_count)\n",
        "print(\"\\nModel Accuracy =\", (correct_count/all_count))"
      ],
      "execution_count": 38,
      "outputs": [
        {
          "output_type": "stream",
          "text": [
            "Number Of Images Tested = 10000\n",
            "\n",
            "Model Accuracy = 0.877\n"
          ],
          "name": "stdout"
        }
      ]
    }
  ]
}