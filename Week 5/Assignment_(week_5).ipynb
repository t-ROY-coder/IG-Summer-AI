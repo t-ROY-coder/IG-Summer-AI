{
  "nbformat": 4,
  "nbformat_minor": 0,
  "metadata": {
    "colab": {
      "name": "Assignment (week 5).ipynb",
      "provenance": [],
      "collapsed_sections": []
    },
    "kernelspec": {
      "display_name": "Python 3",
      "language": "python",
      "name": "python3"
    },
    "language_info": {
      "codemirror_mode": {
        "name": "ipython",
        "version": 3
      },
      "file_extension": ".py",
      "mimetype": "text/x-python",
      "name": "python",
      "nbconvert_exporter": "python",
      "pygments_lexer": "ipython3",
      "version": "3.8.2"
    }
  },
  "cells": [
    {
      "cell_type": "markdown",
      "metadata": {
        "colab_type": "text",
        "id": "iHagJG6Wul4Y"
      },
      "source": [
        "This assignment serves three purposes:\n",
        "\n",
        "--> Introducing you to RandomForestClassifier\n",
        "--> Trying to implement Dense CNN model using the skills you gained till now\n",
        "\n",
        "This assingemnt might not contain a line to line explaination of the task to be performed. You got to start visiting the documentations or any example online to help you out with queries like syntax and parameters.\n",
        "\n",
        "The third and the most crucial purpose of all is helping you understand how to implement different models for the same task.\n",
        "Here, we have given you the task of hand-written digit classification on MNIST dataset, first using RandomForestClassifier and second using Dense CNN and if you wish, you could also try to implement this task from the model of previous assingment with of-course a little bit of tweaking. "
      ]
    },
    {
      "cell_type": "code",
      "metadata": {
        "colab_type": "code",
        "id": "YuKiwK3Dn9Bq",
        "colab": {}
      },
      "source": [
        "import pandas as pd\n",
        "import numpy as np\n",
        "import tensorflow as tf"
      ],
      "execution_count": 0,
      "outputs": []
    },
    {
      "cell_type": "code",
      "metadata": {
        "colab_type": "code",
        "id": "VKLusGinn9Bv",
        "colab": {}
      },
      "source": [
        "from scipy.io import loadmat\n",
        "# set path of dataset to mnist_path varaible and loadmat() it to mnist_raw\n",
        "mnist_path = '/content/mnist-original.mat' #path to the dataset (in .mat format)\n",
        "mnist_raw = loadmat(mnist_path)\n",
        "mnist ={ \"data\":mnist_raw[\"data\"].T,\"target\":mnist_raw[\"label\"][0],\n",
        "         \"COL_NAMES\":[\"label\",\"data\"],\"DESCR\": \"mldata.org dataset:mnist-original\",\n",
        "       }"
      ],
      "execution_count": 0,
      "outputs": []
    },
    {
      "cell_type": "code",
      "metadata": {
        "colab_type": "code",
        "id": "jk-UYMUzn9B1",
        "outputId": "e9270dbd-d0fe-49ce-f0e9-64b3dc1a2027",
        "colab": {}
      },
      "source": [
        "# store data in X and target in y\n",
        "X = mnist['data']\n",
        "y = mnist['target']\n",
        "\n",
        "#Our data is expected to has 70000 instances(rows) and 784 features(columns)\n",
        "\n",
        "print(\"Shape of X:\"+str(X.shape))\n",
        "print(\"Shape of Y:\"+str(y.shape))"
      ],
      "execution_count": 0,
      "outputs": [
        {
          "output_type": "stream",
          "text": [
            "Shape of X:(70000, 784)\n",
            "Shape of Y:(70000,)\n"
          ],
          "name": "stdout"
        }
      ]
    },
    {
      "cell_type": "code",
      "metadata": {
        "colab_type": "code",
        "id": "_rL9RDX-n9CB",
        "colab": {}
      },
      "source": [
        "# To randomize out data set we have to shuffle it\n",
        "#np.random.permutation() gives us an np.array of numbers in range given range\n",
        "#  reshuffle X and y\n",
        "X = np.random.permutation(X)\n",
        "y = np.random.permutation(y)"
      ],
      "execution_count": 0,
      "outputs": []
    },
    {
      "cell_type": "code",
      "metadata": {
        "colab_type": "code",
        "id": "SHTW7MPan9B9",
        "outputId": "b81ec278-2f1c-4927-d9ad-9113a075c6d1",
        "colab": {
          "base_uri": "https://localhost:8080/",
          "height": 265
        }
      },
      "source": [
        "# import matplotlib \n",
        "import matplotlib.pyplot as plt\n",
        "# pick any example from z, rehshape it to 28x28 type and display it using matplot\n",
        "img = X[0].reshape([28,28])\n",
        "plt.imshow(img, cmap = 'gray_r')\n",
        "plt.show()"
      ],
      "execution_count": 0,
      "outputs": [
        {
          "output_type": "display_data",
          "data": {
            "image/png": "[encoded data removed]",
            "text/plain": [
              "<Figure size 432x288 with 1 Axes>"
            ]
          },
          "metadata": {
            "tags": [],
            "needs_background": "light"
          }
        }
      ]
    },
    {
      "cell_type": "code",
      "metadata": {
        "colab_type": "code",
        "id": "SFG3ztPkn9CE",
        "colab": {}
      },
      "source": [
        "# we are dividing the data in 60,000 and 10,000 for training and testing\n",
        "X_train = X[:60000]\n",
        "y_train = y[:60000]\n",
        "X_test = X[60000:]\n",
        "y_test = y[60000:]"
      ],
      "execution_count": 0,
      "outputs": []
    },
    {
      "cell_type": "code",
      "metadata": {
        "colab_type": "code",
        "id": "36J2MsdEn9CI",
        "colab": {}
      },
      "source": [
        "\n",
        "from sklearn.ensemble import RandomForestClassifier\n",
        "from sklearn.metrics import mean_absolute_error\n",
        "\n",
        "#create a rondom forest classifier with random state of 42 and fit your train varaibles \n",
        "\n",
        "rf_model = RandomForestClassifier(random_state=42)\n",
        "rf_model.fit(X_train, y_train)"
      ],
      "execution_count": 0,
      "outputs": []
    },
    {
      "cell_type": "code",
      "metadata": {
        "colab_type": "code",
        "id": "fw8rI-Bvn9CL",
        "colab": {}
      },
      "source": [
        "# predict your train X varariable and find mean_absolute error it should be around 0.00333\n",
        "# repeat the same for test X it should be around 0.205"
      ],
      "execution_count": 0,
      "outputs": []
    },
    {
      "cell_type": "code",
      "metadata": {
        "colab_type": "code",
        "id": "rFgNqrkqn9CO",
        "outputId": "baef9cd0-bcd9-4bcd-8423-3aa7d322c8c4",
        "colab": {}
      },
      "source": [
        "rf_val_mae = mean_absolute_error(rf_model.predict(X_train), y_train)\n",
        "print(\"Validation MAE for Random Forest Model (Train set): {}\".format(rf_val_mae))"
      ],
      "execution_count": 0,
      "outputs": [
        {
          "output_type": "stream",
          "text": [
            "Validation MAE for Random Forest Model (Train set): 0.0\n"
          ],
          "name": "stdout"
        }
      ]
    },
    {
      "cell_type": "code",
      "metadata": {
        "colab_type": "code",
        "id": "dbRSns41n9CR",
        "outputId": "ed2045eb-f0ff-4a84-846a-8d77c3ef4212",
        "colab": {}
      },
      "source": [
        "rf_val_mae = mean_absolute_error(rf_model.predict(X_test), y_test)\n",
        "print(\"Validation MAE for Random Forest Model (Test set): {}\".format(rf_val_mae))"
      ],
      "execution_count": 0,
      "outputs": [
        {
          "output_type": "stream",
          "text": [
            "Validation MAE for Random Forest Model (Test set): 3.3838\n"
          ],
          "name": "stdout"
        }
      ]
    },
    {
      "cell_type": "code",
      "metadata": {
        "colab_type": "code",
        "id": "TSq2hH6Vn9CW",
        "colab": {}
      },
      "source": [
        "# Now that RandonForest has been explored, we'll be implementing Dense CNN model"
      ],
      "execution_count": 0,
      "outputs": []
    },
    {
      "cell_type": "code",
      "metadata": {
        "id": "OdjpydP_iJa-",
        "colab_type": "code",
        "outputId": "c607d427-e282-44b3-b183-f06d4ff0763c",
        "colab": {
          "base_uri": "https://localhost:8080/",
          "height": 51
        }
      },
      "source": [
        "#mnist = tf.keras.datasets.mnist\n",
        "#(X_train, y_train), (X_test, y_test) = mnist.load_data()"
      ],
      "execution_count": 0,
      "outputs": [
        {
          "output_type": "stream",
          "text": [
            "Downloading data from https://storage.googleapis.com/tensorflow/tf-keras-datasets/mnist.npz\n",
            "11493376/11490434 [==============================] - 0s 0us/step\n"
          ],
          "name": "stdout"
        }
      ]
    },
    {
      "cell_type": "code",
      "metadata": {
        "colab_type": "code",
        "id": "ehWGQ6VNn9Cb",
        "colab": {}
      },
      "source": [
        "# First order of business is creating the model\n",
        "# for that purpose we've already imported the required things \n",
        "# your task is to use the above imported modules and whatever skills you have harnessed and build a model from scratch\n",
        "# JUST A REMINDER , WE TRIED TO INTRODUCE YOU ALL WITH MOST OF THE LIBRARIES WHICH WE USE ON A DAILY BASIS\n",
        "# ONE OF THEM IS KERAS USING WHICH YOU'LL IMPLEMENT THIS LAST ASSINGMENT \n",
        "# BUT DON'T WORRY THAT ITS NEW. THE CONCEPTS WHICH YOU ALL HAVE GAINED UPTIL NOW WILL ONLY BE USED \n",
        "# DON'T PANIC THAT YOU DON'T KNOW KERAS\n",
        "# JUST GIVE IT A TRY. CREATING A MODEL IS SIMILAR TO THAT IN PYTORCH.\n",
        "\n",
        "from tensorflow.keras.models import Sequential\n",
        "from tensorflow.keras.layers import Dense,Dropout,BatchNormalization,Flatten\n",
        "\n",
        "# keras initializer\n"
      ],
      "execution_count": 0,
      "outputs": []
    },
    {
      "cell_type": "code",
      "metadata": {
        "colab_type": "code",
        "id": "r0P5nGgan9Cg",
        "colab": {}
      },
      "source": [
        "# model\n",
        "tf_model = Sequential([\n",
        "                       #BatchNormalization(),\n",
        "                       Flatten(input_shape=(28, 28)),\n",
        "                       Dense(128, activation= 'relu'),\n",
        "                       Dense(10)\n",
        "])"
      ],
      "execution_count": 0,
      "outputs": []
    },
    {
      "cell_type": "code",
      "metadata": {
        "colab_type": "code",
        "id": "6zsw6k7kn9Cj",
        "colab": {}
      },
      "source": [
        "# after creating the model compile it with proper optimizer and loss function \n",
        "# You can refer to any keras model training for your reference \n",
        "\n",
        "tf_model.compile(optimizer='adam',\n",
        "              loss=tf.keras.losses.SparseCategoricalCrossentropy(from_logits=True),\n",
        "              metrics=['accuracy'])"
      ],
      "execution_count": 0,
      "outputs": []
    },
    {
      "cell_type": "code",
      "metadata": {
        "colab_type": "code",
        "id": "ZsNYrB4En9Cm",
        "outputId": "3fdceb71-cb0f-4a84-b7ff-50fe3017d067",
        "colab": {
          "base_uri": "https://localhost:8080/",
          "height": 374
        }
      },
      "source": [
        "# Fit your train datasets\n",
        "tf_model.fit(X_train, y_train, epochs=10)"
      ],
      "execution_count": 0,
      "outputs": [
        {
          "output_type": "stream",
          "text": [
            "Epoch 1/10\n",
            "1875/1875 [==============================] - 3s 2ms/step - loss: 2.5163 - accuracy: 0.8573\n",
            "Epoch 2/10\n",
            "1875/1875 [==============================] - 3s 2ms/step - loss: 0.3844 - accuracy: 0.9114\n",
            "Epoch 3/10\n",
            "1875/1875 [==============================] - 3s 2ms/step - loss: 0.2867 - accuracy: 0.9279\n",
            "Epoch 4/10\n",
            "1875/1875 [==============================] - 3s 2ms/step - loss: 0.2590 - accuracy: 0.9362\n",
            "Epoch 5/10\n",
            "1875/1875 [==============================] - 3s 2ms/step - loss: 0.2360 - accuracy: 0.9424\n",
            "Epoch 6/10\n",
            "1875/1875 [==============================] - 3s 2ms/step - loss: 0.2191 - accuracy: 0.9457\n",
            "Epoch 7/10\n",
            "1875/1875 [==============================] - 3s 2ms/step - loss: 0.2097 - accuracy: 0.9481\n",
            "Epoch 8/10\n",
            "1875/1875 [==============================] - 3s 2ms/step - loss: 0.1984 - accuracy: 0.9510\n",
            "Epoch 9/10\n",
            "1875/1875 [==============================] - 3s 2ms/step - loss: 0.1965 - accuracy: 0.9521\n",
            "Epoch 10/10\n",
            "1875/1875 [==============================] - 3s 2ms/step - loss: 0.1860 - accuracy: 0.9554\n"
          ],
          "name": "stdout"
        },
        {
          "output_type": "execute_result",
          "data": {
            "text/plain": [
              "<tensorflow.python.keras.callbacks.History at 0x7f8f80eff0b8>"
            ]
          },
          "metadata": {
            "tags": []
          },
          "execution_count": 27
        }
      ]
    },
    {
      "cell_type": "code",
      "metadata": {
        "colab_type": "code",
        "id": "3iZnY1S8n9Cq",
        "outputId": "cb31d989-7d7a-4b13-dd77-1c4232beae30",
        "colab": {
          "base_uri": "https://localhost:8080/",
          "height": 68
        }
      },
      "source": [
        "# After fitting try your model with test dataset\n",
        "# see the accuracy\n",
        "test_loss, test_acc = tf_model.evaluate(X_test,  y_test, verbose=2)\n",
        "print('\\nTest accuracy:', test_acc)"
      ],
      "execution_count": 0,
      "outputs": [
        {
          "output_type": "stream",
          "text": [
            "313/313 - 0s - loss: 0.2793 - accuracy: 0.9490\n",
            "\n",
            "Test accuracy: 0.9490000009536743\n"
          ],
          "name": "stdout"
        }
      ]
    },
    {
      "cell_type": "code",
      "metadata": {
        "colab_type": "code",
        "id": "Src3IB64n9C0",
        "colab": {}
      },
      "source": [
        "# Understand how and where to use which model and jot down your observations in a text file in the github repository."
      ],
      "execution_count": 0,
      "outputs": []
    }
  ]
}
